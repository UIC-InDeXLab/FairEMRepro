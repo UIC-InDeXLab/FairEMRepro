{
 "cells": [
  {
   "cell_type": "markdown",
   "id": "b59aea6e-4abc-47f9-8c55-a4a401c32fee",
   "metadata": {},
   "source": [
    "# Fair Entity Matching "
   ]
  },
  {
   "cell_type": "markdown",
   "id": "7a5ffe65-fc78-414a-8ada-c0a11689cede",
   "metadata": {},
   "source": [
    "## Requirements\n",
    "Before running the cell below, make sure that you have docker properly installed with non-root user permissions, \n",
    "make sure you have an NVIDIA GPU available and docker has access to GPU. "
   ]
  },
  {
   "cell_type": "markdown",
   "id": "3e609ac0-2eaa-4054-af19-9b164a556743",
   "metadata": {},
   "source": [
    "## Running Time Expectation\n",
    "Depending on the matcher, dataset, and the number of epochs each task could take between a few minutes to a few days. Running all tasks with each of the matchers with the default parameters (epoch=10) took us about a week to finish (with GNEM being the slowest due to the high Cuda memory requirements)."
   ]
  },
  {
   "cell_type": "markdown",
   "id": "25309fbf-022b-4ce4-9d4d-7e3541907b5e",
   "metadata": {},
   "source": [
    "## Generating Ditto Predictions "
   ]
  },
  {
   "cell_type": "markdown",
   "id": "48eddd5f-6139-4c2f-a5f7-4ccde214c90d",
   "metadata": {},
   "source": [
    "Change the `EPOCHS` environment variable to your preference "
   ]
  },
  {
   "cell_type": "code",
   "execution_count": null,
   "id": "383e488f-7408-4bf1-a915-78569c4d07ae",
   "metadata": {},
   "outputs": [],
   "source": [
    "!docker run --gpus all -e EPOCHS=10 -v ./ditto_results/:/app/ditto/results neemashahbazi/fair-entity-matching:ditto-0.1.2"
   ]
  },
  {
   "cell_type": "markdown",
   "id": "6642219d-6c84-48b7-ac62-bdd0ccaa7d51",
   "metadata": {},
   "source": [
    "## Generating GNEM Predictions"
   ]
  },
  {
   "cell_type": "code",
   "execution_count": null,
   "id": "0030c096-7a4f-42ee-bc16-4ec740a8e577",
   "metadata": {},
   "outputs": [],
   "source": [
    "!docker run --gpus all -e EPOCHS=10 -v ./gnem_results/:/app/GNEM/results neemashahbazi/fair-entity-matching:gnem-0.1.5"
   ]
  },
  {
   "cell_type": "markdown",
   "id": "351880c5-9665-457e-a8d8-5a30472622dc",
   "metadata": {},
   "source": [
    "## Generating DeepMatcher Predictions"
   ]
  },
  {
   "cell_type": "code",
   "execution_count": null,
   "id": "e21bc92a-c1c3-4966-a1f8-48c3edb6acc5",
   "metadata": {},
   "outputs": [],
   "source": [
    "!docker run --gpus all -e EPOCHS=10 -v ./deepmatcher_results/:/app/deepmatcher/results neemashahbazi/fair-entity-matching:deepmatcher-0.1.3"
   ]
  },
  {
   "cell_type": "markdown",
   "id": "24e3b8bf-06b2-4c36-aa56-c221791d1850",
   "metadata": {},
   "source": [
    "## Generating HierMatcher Predictions "
   ]
  },
  {
   "cell_type": "code",
   "execution_count": null,
   "id": "bcd58b63-628d-480c-8fab-878fda6c53c3",
   "metadata": {},
   "outputs": [],
   "source": [
    "!docker run --gpus all -e EPOCHS=10 -v ./hiermatcher_results/:/app/HierMatcher/results neemashahbazi/fair-entity-matching:hiermatcher-0.1.1"
   ]
  },
  {
   "cell_type": "markdown",
   "id": "0b9e5d5a-f9b8-4bac-ae3a-e5bbe69640ef",
   "metadata": {},
   "source": [
    "## Generating MCAN Predictions"
   ]
  },
  {
   "cell_type": "code",
   "execution_count": null,
   "id": "a4381f9d-21b6-4fbc-b514-6d52166c798a",
   "metadata": {},
   "outputs": [],
   "source": [
    "!docker run -e EPOCHS=10 -v ./mcan_results/:/app/MCAN/results neemashahbazi/fair-entity-matching:mcan-0.1.1"
   ]
  },
  {
   "cell_type": "markdown",
   "id": "52c5033f-3b99-4cd8-88fb-4dc7042ba6f0",
   "metadata": {},
   "source": [
    "## Generating Non-neural Predictions"
   ]
  },
  {
   "cell_type": "code",
   "execution_count": null,
   "id": "887302e7-cee9-4cbf-b076-4618bcca2b78",
   "metadata": {},
   "outputs": [],
   "source": [
    "!docker run -v ./nonneural_results/:/app/non-neural/results neemashahbazi/fair-entity-matching:nonneural-0.1.3"
   ]
  },
  {
   "cell_type": "markdown",
   "id": "1998edc2-ab91-461f-8d6b-166cf2b7f127",
   "metadata": {},
   "source": [
    "## Changing Access from Root to User"
   ]
  },
  {
   "cell_type": "code",
   "execution_count": 4,
   "id": "2a410bd2-1116-4eb0-9556-82d5044c1c68",
   "metadata": {},
   "outputs": [
    {
     "name": "stdin",
     "output_type": "stream",
     "text": [
      " ········\n"
     ]
    },
    {
     "name": "stderr",
     "output_type": "stream",
     "text": [
      "[sudo] password for nima: "
     ]
    },
    {
     "data": {
      "text/plain": [
       "0"
      ]
     },
     "execution_count": 4,
     "metadata": {},
     "output_type": "execute_result"
    }
   ],
   "source": [
    " import getpass\n",
    " import os\n",
    "\n",
    " password = getpass.getpass()\n",
    " command = \"sudo -S chown -R $(id -u):$(id -g) ./\"\n",
    " os.system('echo %s | %s' % (password, command))"
   ]
  },
  {
   "cell_type": "code",
   "execution_count": 6,
   "id": "74e8f8ab-36a8-4545-b465-1ad1c1d5d7ce",
   "metadata": {},
   "outputs": [],
   "source": [
    "!mv nonneural_results/* ./"
   ]
  },
  {
   "cell_type": "code",
   "execution_count": null,
   "id": "c49ef972-b535-41bf-baba-9a963ee2e255",
   "metadata": {},
   "outputs": [],
   "source": []
  }
 ],
 "metadata": {
  "kernelspec": {
   "display_name": "Python 3 (ipykernel)",
   "language": "python",
   "name": "python3"
  },
  "language_info": {
   "codemirror_mode": {
    "name": "ipython",
    "version": 3
   },
   "file_extension": ".py",
   "mimetype": "text/x-python",
   "name": "python",
   "nbconvert_exporter": "python",
   "pygments_lexer": "ipython3",
   "version": "3.8.8"
  }
 },
 "nbformat": 4,
 "nbformat_minor": 5
}
